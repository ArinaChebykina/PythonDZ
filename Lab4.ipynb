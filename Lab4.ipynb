{
  "nbformat": 4,
  "nbformat_minor": 0,
  "metadata": {
    "colab": {
      "provenance": []
    },
    "kernelspec": {
      "name": "python3",
      "display_name": "Python 3"
    },
    "language_info": {
      "name": "python"
    }
  },
  "cells": [
    {
      "cell_type": "code",
      "execution_count": null,
      "metadata": {
        "colab": {
          "base_uri": "https://localhost:8080/"
        },
        "id": "C6vPRg9FYBck",
        "outputId": "0aff3bcf-878b-465d-9c48-c23f5f26aba6"
      },
      "outputs": [
        {
          "output_type": "stream",
          "name": "stdout",
          "text": [
            "3\n",
            "6\n"
          ]
        }
      ],
      "source": [
        "#R1\n",
        "def factorial(n):\n",
        "    if n == 0:\n",
        "        return 1\n",
        "\n",
        "    return factorial(n-1)*n\n",
        "n = int(input())\n",
        "print(factorial(n))"
      ]
    },
    {
      "cell_type": "code",
      "source": [
        "#R2\n",
        "def power(a, n):\n",
        "    if n == 0:\n",
        "        return 1\n",
        "    if n == 1:\n",
        "        return a\n",
        "    if n != 1 and n>0:\n",
        "        return a * power(a, n - 1)\n",
        "    if n<0:\n",
        "        return 1/(a*power(a, (-n)-1))\n",
        "a = int(input())\n",
        "n = int(input())\n",
        "print(power(a, n))"
      ],
      "metadata": {
        "colab": {
          "base_uri": "https://localhost:8080/"
        },
        "id": "Ghia-YzGZUGM",
        "outputId": "de211e19-d215-48b4-bebd-11e086e4a9c3"
      },
      "execution_count": null,
      "outputs": [
        {
          "output_type": "stream",
          "name": "stdout",
          "text": [
            "2\n",
            "-3\n",
            "0.125\n"
          ]
        }
      ]
    },
    {
      "cell_type": "code",
      "source": [
        "#NL6\n",
        "n = list(map(int, input().split()))\n",
        "s = set()\n",
        "for i in n:\n",
        "    if i in s:\n",
        "        print('YES')\n",
        "    else:\n",
        "        print('NO')\n",
        "        s.add(i)"
      ],
      "metadata": {
        "colab": {
          "base_uri": "https://localhost:8080/"
        },
        "id": "_lQaYNmDNzSU",
        "outputId": "02e50b3d-c97c-4209-e369-8c6154b0fe3c"
      },
      "execution_count": null,
      "outputs": [
        {
          "output_type": "stream",
          "name": "stdout",
          "text": [
            "1 2 3 2 3 4\n",
            "NO\n",
            "NO\n",
            "NO\n",
            "YES\n",
            "YES\n",
            "NO\n"
          ]
        }
      ]
    },
    {
      "cell_type": "code",
      "source": [
        "#NL5\n",
        "A = list(map(int, input().split()))\n",
        "B = list(map(int, input().split()))\n",
        "a = set(A)\n",
        "b = set(B)\n",
        "n = 0\n",
        "for i in a:\n",
        "    if i in b:\n",
        "        n+=1\n",
        "print(n)"
      ],
      "metadata": {
        "colab": {
          "base_uri": "https://localhost:8080/"
        },
        "id": "g8ydCcBXTqab",
        "outputId": "0db9455c-8000-42f8-cab5-1aad9a24461a"
      },
      "execution_count": null,
      "outputs": [
        {
          "output_type": "stream",
          "name": "stdout",
          "text": [
            "1 3 2\n",
            "4 3 2\n",
            "2\n"
          ]
        }
      ]
    },
    {
      "cell_type": "code",
      "source": [
        "#S7\n",
        "a = input()\n",
        "print(a[2:3])\n",
        "print(a[-2:-1])\n",
        "print(a[:5])\n",
        "print(a[:-2])\n",
        "print(a[::2])\n",
        "print(a[1::2])\n",
        "print(a[::-1])\n",
        "k=a[::-1]\n",
        "print(k[::2])\n",
        "print(len(a))"
      ],
      "metadata": {
        "colab": {
          "base_uri": "https://localhost:8080/"
        },
        "id": "-g4sjf6RZ4gE",
        "outputId": "1db7ff66-3481-4661-abf3-60d9a5fe0f35"
      },
      "execution_count": null,
      "outputs": [
        {
          "output_type": "stream",
          "name": "stdout",
          "text": [
            "Abrakadabra\n",
            "r\n",
            "r\n",
            "Abrak\n",
            "Abrakadab\n",
            "Arkdba\n",
            "baaar\n",
            "arbadakarbA\n",
            "abdkrA\n",
            "11\n"
          ]
        }
      ]
    },
    {
      "cell_type": "code",
      "source": [
        "#S8\n",
        "s = input()\n",
        "if s.count(\"f\")==1:\n",
        "    print(s.find(\"f\"))\n",
        "elif s.count(\"f\")>=2:\n",
        "    print(s.find(\"f\"),s.rfind(\"f\"))"
      ],
      "metadata": {
        "colab": {
          "base_uri": "https://localhost:8080/"
        },
        "id": "ftYbFG55aAwG",
        "outputId": "7fbb401e-2bf6-4a38-be2f-aab4f735607c"
      },
      "execution_count": null,
      "outputs": [
        {
          "output_type": "stream",
          "name": "stdout",
          "text": [
            "office\n",
            "1 2\n"
          ]
        }
      ]
    },
    {
      "cell_type": "code",
      "source": [
        "import pygame\n",
        "from pygame.draw import *\n",
        "\n",
        "pygame.init()\n",
        "\n",
        "FPS = 30\n",
        "sc = pygame.display.set_mode((400, 600))\n",
        "pi = 3.14\n",
        "\n",
        "floar = (139, 112, 0)\n",
        "wall = (90, 72, 0)\n",
        "window = (225, 255, 253)\n",
        "glass = (170, 225, 255)\n",
        "cat = (225, 133, 65)\n",
        "black = (0, 0, 0)\n",
        "green = (150, 200, 65)\n",
        "white = (255, 255, 255)\n",
        "ears = (255, 200, 180)\n",
        "gray = (192, 192, 192)\n",
        "\n",
        "#фон\n",
        "pygame.draw.rect(sc, floar, (0, 270, 400, 330))\n",
        "pygame.draw.rect(sc, wall, (0, 0, 400, 270))\n",
        "\n",
        "#окно\n",
        "pygame.draw.rect(sc, window, (225, 20, 170, 240))\n",
        "pygame.draw.rect(sc, glass, (235, 25, 70, 60))\n",
        "pygame.draw.rect(sc, glass, (315, 25, 70, 60))\n",
        "pygame.draw.rect(sc, glass, (235, 100, 70, 155))\n",
        "pygame.draw.rect(sc, glass, (315, 100, 70, 155))\n",
        "\n",
        "#туловище и лапы\n",
        "def draw_ellipse_angle(surface, color, rect, angle, width=0):\n",
        "    target_rect = pygame.Rect(rect)\n",
        "    shape_surf = pygame.Surface(target_rect.size, pygame.SRCALPHA)\n",
        "    pygame.draw.ellipse(shape_surf, color, (0, 0, *target_rect.size), width)\n",
        "    rotated_surf = pygame.transform.rotate(shape_surf, angle)\n",
        "    surface.blit(rotated_surf, rotated_surf.get_rect(center = target_rect.center))\n",
        "\n",
        "angle1 = 150\n",
        "draw_ellipse_angle(sc, cat, (280, 335, 150, 50), angle1)\n",
        "draw_ellipse_angle(sc, black, (280, 335, 150, 50), angle1, 1)\n",
        "\n",
        "pygame.draw.ellipse(sc, cat, (70, 280, 250, 135))\n",
        "pygame.draw.ellipse(sc, black,(70, 280, 250, 135), 1)\n",
        "\n",
        "pygame.draw.ellipse(sc, cat, (80, 380, 70, 40))\n",
        "pygame.draw.ellipse(sc, black, (80, 380, 70, 40), 1)\n",
        "\n",
        "pygame.draw.circle(sc, cat, (285, 380), 40)\n",
        "pygame.draw.circle(sc, black, (285, 380), 40, 1)\n",
        "\n",
        "pygame.draw.ellipse(sc, cat, (310, 385, 25, 60))\n",
        "pygame.draw.ellipse(sc, black, (310, 385, 25, 60), 1)\n",
        "\n",
        "pygame.draw.ellipse(sc, cat, (45, 330, 40, 70))\n",
        "pygame.draw.ellipse(sc, black, (45, 330, 40, 70), 1)\n",
        "\n",
        "#голова\n",
        "pygame.draw.ellipse(sc, cat, (35, 292, 100, 90))\n",
        "pygame.draw.ellipse(sc, black, (35, 292, 100, 90), 1)\n",
        "\n",
        "#глаза\n",
        "pygame.draw.ellipse(sc, green, (54, 327, 22, 30))\n",
        "pygame.draw.ellipse(sc, black, (54, 327, 22, 30), 1)\n",
        "pygame.draw.ellipse(sc, green, (95, 327, 22, 30))\n",
        "pygame.draw.ellipse(sc, black, (95, 327, 22, 30), 1)\n",
        "\n",
        "pygame.draw.ellipse(sc, black, (67, 331, 4, 22))\n",
        "pygame.draw.ellipse(sc, black, (108, 331, 4, 22))\n",
        "\n",
        "angle2 = 50\n",
        "draw_ellipse_angle(sc, white, (62, 330, 4, 13), angle2)\n",
        "draw_ellipse_angle(sc, white, (103, 330, 4, 13), angle2)\n",
        "\n",
        "#уши\n",
        "pygame.draw.polygon(sc, cat,[[40, 330],[55,305],[30,295]])\n",
        "pygame.draw.polygon(sc, black,[[40, 330],[55,305],[30,295]], 1)\n",
        "\n",
        "pygame.draw.polygon(sc, ears,[[41, 325],[51,307],[35,300]])\n",
        "pygame.draw.polygon(sc, black,[[41, 325],[51,307],[35,300]], 1)\n",
        "\n",
        "\n",
        "pygame.draw.polygon(sc, cat, [[130, 330], [115, 305], [140, 295]])\n",
        "pygame.draw.polygon(sc, black, [[130, 330], [115, 305], [140, 295]], 1)\n",
        "\n",
        "pygame.draw.polygon(sc, ears, [[129, 325], [118, 307], [135, 300]])\n",
        "pygame.draw.polygon(sc, black, [[129, 325], [118, 307], [135, 300]], 1)\n",
        "\n",
        "#нос\n",
        "pygame.draw.polygon(sc, ears, [[85, 362], [80, 357], [90, 357]])\n",
        "pygame.draw.polygon(sc, black, [[85, 362], [80, 357], [90, 357]], 1)\n",
        "\n",
        "#рот\n",
        "pygame.draw.line(sc, black, (85, 362), (85,367), 1)\n",
        "\n",
        "pygame.draw.arc(sc, black, (75, 365, 10, 7), (7*pi/6), 2*pi, 1)\n",
        "pygame.draw.arc(sc, black, (85, 365, 10, 7), pi, 11*pi/6, 1)\n",
        "\n",
        "#Усы\n",
        "pygame.draw.aaline(sc, black, (97, 362), (145, 355))\n",
        "pygame.draw.aaline(sc, black, (99, 365), (147, 361))\n",
        "pygame.draw.aaline(sc, black, (97, 368), (145, 372))\n",
        "\n",
        "pygame.draw.aaline(sc, black, (73, 362), (25, 355))\n",
        "pygame.draw.aaline(sc, black, (71, 365), (23, 361))\n",
        "pygame.draw.aaline(sc, black, (73, 368), (25, 372))\n",
        "\n",
        "#клубок\n",
        "pygame.draw.circle(sc, gray, (270, 500), 50)\n",
        "\n",
        "pygame.draw.arc(sc, black, (260, 495, 40, 85), 8*pi/14, pi, 1)\n",
        "pygame.draw.line(sc, black, (250, 510), (250,530), 1)\n",
        "pygame.draw.arc(sc, black, (250, 485, 60, 60), 2*pi/3, pi, 1)\n",
        "pygame.draw.arc(sc, black, (275, 500, 50, 85), 2*pi/3, pi, 1)\n",
        "\n",
        "pygame.draw.arc(sc, black, (230, 480, 70, 70), 0, 17*pi/24, 1)\n",
        "pygame.draw.arc(sc, black, (227, 470, 80, 70), 0, 18*pi/24, 1)\n",
        "pygame.draw.arc(sc, black, (227, 460, 85, 70), 0, 19*pi/24, 1)\n",
        "\n",
        "pygame.draw.arc(sc, gray, (200, 470, 70, 70), 4*pi/3, 5*pi/3, 1)\n",
        "pygame.draw.circle(sc, black, (270, 500), 50, 1)\n",
        "pygame.draw.line(sc, gray, (217, 534), (120, 534), 1)\n",
        "\n",
        "pygame.display.update()\n",
        "clock = pygame.time.Clock()\n",
        "finished = False\n",
        "\n",
        "while not finished:\n",
        "    clock.tick(FPS)\n",
        "    for event in pygame.event.get():\n",
        "        if event.type == pygame.QUIT:\n",
        "            finished = True\n",
        "\n",
        "pygame.quit()"
      ],
      "metadata": {
        "id": "pLGYH6JT-QDw"
      },
      "execution_count": null,
      "outputs": []
    }
  ]
}