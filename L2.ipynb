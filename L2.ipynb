{
  "metadata": {
    "language_info": {
      "codemirror_mode": {
        "name": "python",
        "version": 3
      },
      "file_extension": ".py",
      "mimetype": "text/x-python",
      "name": "python",
      "nbconvert_exporter": "python",
      "pygments_lexer": "ipython3",
      "version": "3.8"
    },
    "kernelspec": {
      "name": "python",
      "display_name": "Python (Pyodide)",
      "language": "python"
    }
  },
  "nbformat_minor": 4,
  "nbformat": 4,
  "cells": [
    {
      "cell_type": "code",
      "source": "#L2 Задача В1\nyear = 2023\nif year % 4 == 0 and year % 100 != 0:\n    print(\"YES\")\nelif year % 400 == 0:\n    print(\"YES\")\nelse:\n    print(\"NO\")",
      "metadata": {
        "trusted": true
      },
      "execution_count": 16,
      "outputs": [
        {
          "name": "stdout",
          "text": "NO\n",
          "output_type": "stream"
        }
      ]
    },
    {
      "cell_type": "code",
      "source": "#L2 Ц1\nn = 4\na = 1\n\nwhile n!=0:\n    a = a*n\n    n = n-1\nprint(a)",
      "metadata": {
        "trusted": true
      },
      "execution_count": 15,
      "outputs": [
        {
          "name": "stdout",
          "text": "24\n",
          "output_type": "stream"
        }
      ]
    },
    {
      "cell_type": "code",
      "source": "#L2 Ф2\ndef minimum(n1, n2):\n    if n1 >= n2:\n        return n2\n    else:\n        return n1\n\nprint(minimum(100, 17.5))",
      "metadata": {
        "trusted": true
      },
      "execution_count": 17,
      "outputs": [
        {
          "name": "stdout",
          "text": "17.5\n",
          "output_type": "stream"
        }
      ]
    },
    {
      "cell_type": "code",
      "source": "#L2 Ч6\nimport turtle\n\nturtle.shape('turtle')\nk = 12\nwhile k!=0:\n    turtle.forward(100)\n    turtle.stamp()\n    turtle.backward(100)\n    turtle.left(30)\n    k -= 1",
      "metadata": {},
      "execution_count": null,
      "outputs": []
    },
    {
      "cell_type": "code",
      "source": "",
      "metadata": {},
      "execution_count": null,
      "outputs": []
    }
  ]
}